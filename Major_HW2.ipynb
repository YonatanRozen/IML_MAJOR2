{
  "cells": [
    {
      "cell_type": "markdown",
      "metadata": {
        "id": "AaWOEIUIMac-"
      },
      "source": [
        "#HW1 - Data Exploration and Preparation"
      ]
    },
    {
      "cell_type": "code",
      "execution_count": 4,
      "metadata": {
        "id": "4fHDGDO95YGC"
      },
      "outputs": [],
      "source": [
        "import numpy as np\n",
        "import pandas as pd\n",
        "import matplotlib.pyplot as plt\n",
        "import seaborn as sns"
      ]
    },
    {
      "cell_type": "markdown",
      "metadata": {
        "id": "tSrPNPidMY3l"
      },
      "source": [
        "## Loading the dataset"
      ]
    },
    {
      "cell_type": "code",
      "execution_count": 7,
      "metadata": {
        "id": "sVCPiqj_L8ch"
      },
      "outputs": [],
      "source": [
        "dataset = pd.read_csv('virus_data.csv')"
      ]
    },
    {
      "cell_type": "code",
      "execution_count": 8,
      "metadata": {
        "id": "bVmBUgUWMH0I"
      },
      "outputs": [
        {
          "data": {
            "text/plain": [
              "(1250, 26)"
            ]
          },
          "execution_count": 8,
          "metadata": {},
          "output_type": "execute_result"
        }
      ],
      "source": [
        "dataset.shape"
      ]
    },
    {
      "cell_type": "code",
      "execution_count": 9,
      "metadata": {
        "id": "fULq3pXduRov"
      },
      "outputs": [],
      "source": [
        "def visualize_clf(clf, X, Y, title, \n",
        "                  xlabel, ylabel,\n",
        "                  marker_size=50,\n",
        "                  grid_length=300,\n",
        "                  linewidths=None):\n",
        "    import matplotlib.pyplot as plt\n",
        "    import pandas as pd\n",
        "    from matplotlib.colors import ListedColormap\n",
        "    \n",
        "    if isinstance(X, pd.DataFrame):\n",
        "        X = X.to_numpy()\n",
        "        \n",
        "    # For internal use here, make sure labels are 0 and 1\n",
        "    Y = np.ravel(Y).astype(int)\n",
        "    labels = set(Y)\n",
        "    assert len(labels) == 2, \"Can only visualize two unique labels\"\n",
        "\n",
        "    if labels == set([-1,1]):\n",
        "      Y = (Y + 1) // 2\n",
        "      labels = set(Y)\n",
        "    \n",
        "    assert labels == set([0,1]), \"Could not handle given labels\"\n",
        "\n",
        "    plt.figure(figsize=(8, 8))\n",
        "\n",
        "    # Parameters\n",
        "    n_classes = 2\n",
        "    markers = [\"D\", \"o\"]\n",
        "    palette = sns.color_palette(\"hls\", 2)\n",
        "    custom_cmap = ListedColormap(palette.as_hex())\n",
        "\n",
        "    x_delta = np.abs(X[:, 0].max() - X[:, 0].min()) * 0.1\n",
        "    y_delta = np.abs(X[:, 1].max() - X[:, 1].min()) * 0.1\n",
        "    x_min, x_max = X[:, 0].min() - x_delta, X[:, 0].max() + x_delta\n",
        "    y_min, y_max = X[:, 1].min() - y_delta, X[:, 1].max() + y_delta\n",
        "    xx, yy = np.meshgrid(np.linspace(x_min, x_max, grid_length),\n",
        "                         np.linspace(y_min, y_max, grid_length))\n",
        "    plt.tight_layout(h_pad=0.5, w_pad=0.5, pad=2.5)\n",
        "\n",
        "    Z = clf.predict(np.c_[xx.ravel(), yy.ravel()])\n",
        "    Z = Z.reshape(xx.shape)\n",
        "\n",
        "    cs = plt.contourf(xx, yy, Z, cmap=custom_cmap, alpha=0.35)\n",
        "\n",
        "    plt.xlabel(xlabel)\n",
        "    plt.ylabel(ylabel)\n",
        "    plt.grid(alpha=0.75)\n",
        "\n",
        "    # Plot the training points\n",
        "    for i, color, marker in zip(labels, palette, markers):\n",
        "        idx = np.where(Y == i)\n",
        "        plt.scatter(X[idx, 0], X[idx, 1], color=color,\n",
        "                    marker=marker,\n",
        "                    edgecolor='white', s=marker_size,\n",
        "                    linewidths=linewidths)\n",
        "\n",
        "    plt.title(title, fontsize=20)\n",
        "    plt.axis(\"tight\")\n",
        "    plt.show()"
      ]
    },
    {
      "cell_type": "code",
      "execution_count": 12,
      "metadata": {},
      "outputs": [],
      "source": [
        "def plot3d(df, colX, colY, colZ, title, hue=None, s=1):\n",
        "  %matplotlib inline\n",
        "\n",
        "  fig = plt.figure(figsize=(20, 4))\n",
        "  axes = [fig.add_subplot(1, 4, 1, projection='3d'),\n",
        "          fig.add_subplot(1, 4, 2, projection='3d'),\n",
        "          fig.add_subplot(1, 4, 3, projection='3d'),\n",
        "          fig.add_subplot(1, 4, 4, projection='3d')]\n",
        "\n",
        "  palette = sns.color_palette(\"hls\", 2)\n",
        "\n",
        "  for i,ax in enumerate(axes):\n",
        "    if hue is None:\n",
        "      ax.scatter3D(df[colX], df[colY], df[colZ], color=palette[0], s=s)\n",
        "    else:\n",
        "      idx = df[hue] == True\n",
        "      df1 = df[idx]\n",
        "      df2 = df[~idx]\n",
        "\n",
        "      ax.scatter3D(df1[colX], df1[colY], df1[colZ], color=palette[0], s=s)\n",
        "      ax.scatter3D(df2[colX], df2[colY], df2[colZ], color=palette[1], s=s)\n",
        "\n",
        "    if i == 3 or i == 1:\n",
        "      ax.set_xlabel(colX, labelpad=20)\n",
        "      ax.set_ylabel(colY, labelpad=20)\n",
        "    else:\n",
        "      ax.xaxis.set_ticklabels([])\n",
        "      ax.yaxis.set_ticklabels([])\n",
        "\n",
        "    ax.view_init(elev=5., azim=45*i+15)\n",
        "\n",
        "  axes[1].set_zlabel(\"\\n\" + colZ, labelpad=1)\n",
        "\n",
        "  plt.suptitle(title)\n",
        "  plt.subplots_adjust(wspace=0.1, top=0.99)\n",
        "  plt.show()"
      ]
    },
    {
      "cell_type": "code",
      "execution_count": 14,
      "metadata": {},
      "outputs": [],
      "source": [
        "import numpy as np\n",
        "import pandas as pd\n",
        "from sklearn.preprocessing import StandardScaler\n",
        "from sklearn.preprocessing import MinMaxScaler\n",
        "\n",
        "\n",
        "def prepare_data(training_data, new_data):\n",
        "\n",
        "  # Copy the data\n",
        "  train_df = training_data.copy()\n",
        "  new_df = new_data.copy()\n",
        "\n",
        "  # Add the SpecialProperty column & drop blood_type\n",
        "  group_True = ['O+', 'B+']\n",
        "  train_df['SpecialProperty'] = np.where(train_df['blood_type'].isin(group_True), 1, -1)\n",
        "  new_df['SpecialProperty'] = np.where(new_df['blood_type'].isin(group_True), 1, -1)\n",
        "  train_df = train_df.drop('blood_type', axis=1)\n",
        "  new_df = new_df.drop('blood_type', axis=1)\n",
        "\n",
        "  # Split the symptoms variable into columns\n",
        "  train_df_new_cols = train_df['symptoms'].str.get_dummies(';')\n",
        "  train_df_new_cols[train_df_new_cols == 0] = -1\n",
        "\n",
        "  new_df_new_cols = new_df['symptoms'].str.get_dummies(';')\n",
        "  new_df_new_cols[new_df_new_cols == 0] = -1\n",
        "\n",
        "  train_df = pd.concat([train_df, train_df_new_cols], axis=1)\n",
        "  new_df = pd.concat([new_df, new_df_new_cols], axis=1)\n",
        "\n",
        "  train_df = train_df.drop('symptoms', axis=1)\n",
        "  new_df = new_df.drop('symptoms', axis=1)\n",
        "\n",
        "  # Split the gender column into \"Male\" and \"Female\"\n",
        "  train_df['Female'] = np.where(train_df['sex'] == 'F', 1, -1)\n",
        "  train_df['Male'] = np.where(train_df['sex'] == 'M', 1, -1)\n",
        "  train_df = train_df.drop('sex', axis=1)\n",
        "\n",
        "  new_df['Female'] = np.where(new_df['sex'] == 'F', 1, -1)\n",
        "  new_df['Male'] = np.where(new_df['sex'] == 'M', 1, -1)\n",
        "  new_df = new_df.drop('sex', axis=1)\n",
        "\n",
        "  # Split location column into location_x and location_y\n",
        "  train_df['location_x'] = [float(location.split(\"'\")[1]) for location in train_df['current_location']]\n",
        "  train_df['location_y'] = [float(location.split(\"'\")[3]) for location in train_df['current_location']]\n",
        "  train_df = train_df.drop('current_location', axis=1)\n",
        "\n",
        "  new_df['location_x'] = [float(location.split(\"'\")[1]) for location in new_df['current_location']]\n",
        "  new_df['location_y'] = [float(location.split(\"'\")[3]) for location in new_df['current_location']]\n",
        "  new_df = new_df.drop('current_location', axis=1)\n",
        "\n",
        "  train_df = train_df.drop('pcr_date', axis=1)\n",
        "  train_df = train_df.drop('patient_id', axis=1)\n",
        "  new_df = new_df.drop('pcr_date', axis=1)\n",
        "  new_df = new_df.drop('patient_id', axis=1)\n",
        "\n",
        "\n",
        "  # Columns designated for minmax scaling\n",
        "  cols_for_minmax = ['PCR_01','PCR_02','PCR_03','PCR_06','cough','fever',\n",
        "                    'shortness_of_breath','smell_loss','sore_throat','Female','Male', 'SpecialProperty']\n",
        "  # Columns designated for standrad scaling\n",
        "  cols_for_standard = ['age','weight','num_of_siblings','happiness_score','household_income',\n",
        "                   'conversations_per_day','sugar_levels','sport_activity','location_x',\n",
        "                   'location_y','PCR_04','PCR_05','PCR_07','PCR_08','PCR_09','PCR_10']\n",
        "\n",
        "  # minmax scale all the minmax columns (in both training & test data, fit only training)\n",
        "  scaler = MinMaxScaler(feature_range=(-1,1))\n",
        "  scaler.fit(train_df[cols_for_minmax])\n",
        "  new_df[cols_for_minmax] = scaler.transform(new_df[cols_for_minmax])\n",
        "\n",
        "  # Standard scale all the standard columns\n",
        "  scaler = StandardScaler()\n",
        "  scaler.fit(train_df[cols_for_standard])\n",
        "  new_df[cols_for_standard] = scaler.transform(new_df[cols_for_standard])\n",
        "\n",
        "  return new_df"
      ]
    },
    {
      "cell_type": "code",
      "execution_count": 15,
      "metadata": {},
      "outputs": [
        {
          "ename": "NameError",
          "evalue": "name 'data_train_original' is not defined",
          "output_type": "error",
          "traceback": [
            "\u001b[1;31m---------------------------------------------------------------------------\u001b[0m",
            "\u001b[1;31mNameError\u001b[0m                                 Traceback (most recent call last)",
            "Cell \u001b[1;32mIn[15], line 2\u001b[0m\n\u001b[0;32m      1\u001b[0m \u001b[38;5;66;03m# Prepare training set according to itself\u001b[39;00m\n\u001b[1;32m----> 2\u001b[0m train_df_prepared \u001b[38;5;241m=\u001b[39m prepare_data(\u001b[43mdata_train_original\u001b[49m, data_train_original)\n\u001b[0;32m      4\u001b[0m \u001b[38;5;66;03m# Prepare test set according to the raw training set\u001b[39;00m\n\u001b[0;32m      5\u001b[0m test_df_prepared \u001b[38;5;241m=\u001b[39m prepare_data(data_train_original, data_test_original)\n",
            "\u001b[1;31mNameError\u001b[0m: name 'data_train_original' is not defined"
          ]
        }
      ],
      "source": [
        "from sklearn.model_selection import train_test_split\n",
        "\n",
        "data_train, data_test = train_test_split(dataset, test_size=0.2, train_size=0.8, random_state=25)\n",
        "\n",
        "# Prepare training set according to itself\n",
        "train_df_prepared = prepare_data(data_train, data_train)\n",
        "\n",
        "# Prepare test set according to the raw training set\n",
        "test_df_prepared = prepare_data(data_train, data_test)\n",
        "\n",
        "# Export the training DataFrame to a CSV file\n",
        "train_df_prepared.to_csv('training_preprocessed.csv', index=False)\n",
        "\n",
        "# Export the test DataFrame to a CSV file\n",
        "test_df_prepared.to_csv('test_preprocessesd.csv', index=False)"
      ]
    }
  ],
  "metadata": {
    "colab": {
      "provenance": [],
      "toc_visible": true
    },
    "kernelspec": {
      "display_name": "Python 3",
      "name": "python3"
    },
    "language_info": {
      "codemirror_mode": {
        "name": "ipython",
        "version": 3
      },
      "file_extension": ".py",
      "mimetype": "text/x-python",
      "name": "python",
      "nbconvert_exporter": "python",
      "pygments_lexer": "ipython3",
      "version": "3.12.2"
    }
  },
  "nbformat": 4,
  "nbformat_minor": 0
}
